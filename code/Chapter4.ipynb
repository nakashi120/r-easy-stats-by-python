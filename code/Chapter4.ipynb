{
 "cells": [
  {
   "cell_type": "markdown",
   "metadata": {},
   "source": [
    "# 母集団と標本"
   ]
  },
  {
   "cell_type": "markdown",
   "metadata": {},
   "source": [
    "- 大きな集団から一部を取り出してきたデータからもとの集団の性質に推測する\n",
    "- とくに推測統計のキーポイントである標本分布について理解するのが目的"
   ]
  },
  {
   "cell_type": "markdown",
   "metadata": {},
   "source": [
    "## 4.1 母集団と標本\n",
    "- 母集団：もともと関心の対象であったデータ全体\n",
    "- 標本：その一部を切り出したデータ\n",
    "- 標本抽出：母集団から標本をとりだすこと\n",
    "- 母数:母集団の性質を表す統計的指標（比率、平均、分散、相関係数など）"
   ]
  },
  {
   "cell_type": "markdown",
   "metadata": {},
   "source": [
    "## 4.2 推測統計の分類\n",
    "- 推定：具体的な値を用いて「母数の値はこれくらいだろう」という結論を導くもの\n",
    "    - 点推定：1つの値で推定の結果をあらわすもの\n",
    "    - 区間推定：ある程度の幅をもった区間で結果を表す\n",
    "- 検定：母集団についてのべた異なる立場の2つの主張のどちらを採択するかを決めるもの"
   ]
  },
  {
   "cell_type": "markdown",
   "metadata": {},
   "source": [
    "## 4.3 点推定"
   ]
  },
  {
   "cell_type": "markdown",
   "metadata": {},
   "source": [
    "### 4.3.1 点推定の手順\n",
    "- サンプルサイズ：標本に含まれるデータの個数\n",
    "- 点推定：標本の平均を算出する"
   ]
  },
  {
   "cell_type": "markdown",
   "metadata": {},
   "source": [
    "例題）17際の日本人男性全体の平均身長の推定"
   ]
  },
  {
   "cell_type": "code",
   "execution_count": 48,
   "metadata": {},
   "outputs": [],
   "source": [
    "import matplotlib.pyplot as plt\n",
    "import numpy as np\n",
    "import pandas as pd\n",
    "import statistics\n",
    "%matplotlib inline"
   ]
  },
  {
   "cell_type": "code",
   "execution_count": 4,
   "metadata": {},
   "outputs": [],
   "source": [
    "# 10人の17歳男性の身長データ\n",
    "height_list = [165.2, 175.9, 161.7, 174.2, 172.1,\n",
    "               163.3, 170.9, 170.6, 168.4, 171.3]"
   ]
  },
  {
   "cell_type": "code",
   "execution_count": 9,
   "metadata": {},
   "outputs": [
    {
     "data": {
      "text/plain": [
       "169.36"
      ]
     },
     "execution_count": 9,
     "metadata": {},
     "output_type": "execute_result"
    }
   ],
   "source": [
    "# 平均をもとめる\n",
    "# これが点推定\n",
    "height_array = np.array(height_list)\n",
    "np.average(height_array)"
   ]
  },
  {
   "cell_type": "markdown",
   "metadata": {},
   "source": [
    "データの平均値の算出には2つの意味がある\n",
    "- 記述統計：データの数値要約のための代表値をもとめること\n",
    "- 推測統計；母平均の点推定をおこなうこと"
   ]
  },
  {
   "cell_type": "markdown",
   "metadata": {},
   "source": [
    "### 4.3.2 推定量と推定値\n",
    "- 標本統計量：標本データから計算されるもの\n",
    "    - 平均\n",
    "    - 分散\n",
    "    - 標準偏差\n",
    "    - 相関係数\n",
    "- 同じ平均でも、母集団の平均と標本の平均を区別する必要がある場合には以下の呼び方\n",
    "    - 母平均\n",
    "    - 標本平均\n",
    "- （母数の）推定量：母数を推定するために用いられる標本統計量\n",
    "- 推定値：標本データを用いて計算された推定量の値"
   ]
  },
  {
   "cell_type": "code",
   "execution_count": 12,
   "metadata": {},
   "outputs": [
    {
     "data": {
      "text/plain": [
       "21.667111111111122"
      ]
     },
     "execution_count": 12,
     "metadata": {},
     "output_type": "execute_result"
    }
   ],
   "source": [
    "# 母集団の身長の分散＝標本の不偏分散\n",
    "# numpyの場合は標本分散がデフォルト\n",
    "# 不偏分散を求めたい場合は、ddof=1という指定が必要\n",
    "np.var(height_array, ddof=1)"
   ]
  },
  {
   "cell_type": "code",
   "execution_count": 13,
   "metadata": {},
   "outputs": [
    {
     "data": {
      "text/plain": [
       "19.50040000000001"
      ]
     },
     "execution_count": 13,
     "metadata": {},
     "output_type": "execute_result"
    }
   ],
   "source": [
    "# ちなみにddof=1を指定しないと...以下のようになる\n",
    "np.var(height_array)"
   ]
  },
  {
   "cell_type": "markdown",
   "metadata": {},
   "source": [
    "表 母数と推定量"
   ]
  },
  {
   "cell_type": "markdown",
   "metadata": {},
   "source": [
    "|  母数  |  推定量  |　　推定値 |\n",
    "| ---- | ---- | ---- |\n",
    "|  母平均  |  標本平均  | 標本データから計算された標本平均 |\n",
    "|  母分散  |  不偏分散  |  標本データから計算された不偏分散の値 |\n",
    "|  母標準偏差  |  不偏分散の正の平方根  |  標本データから計算された不偏分散の正の平方根の値|\n",
    "|  母相関係数　　|  標本相関係数  |  標本データから計算された標本相関係数の値  |\n",
    "|  母比率  |  標本比率  |  標本データから計算された標本比率の値　　|"
   ]
  },
  {
   "cell_type": "markdown",
   "metadata": {},
   "source": [
    "### 4.3.3 標本抽出に伴う誤差"
   ]
  },
  {
   "cell_type": "markdown",
   "metadata": {},
   "source": [
    "- 大事なこと\n",
    "    - 実際の母数の値にどれぐらい近い推定値を得ることができるのか\n",
    "    - 推定の結果はどれぐらい信用できるのか\n",
    "- 標本誤差：抽出された標本データを用いたことが原因で生じる誤差"
   ]
  },
  {
   "cell_type": "markdown",
   "metadata": {},
   "source": [
    "## 4.4 推定値がどれぐらいあてになるのかを調べる方法"
   ]
  },
  {
   "cell_type": "markdown",
   "metadata": {},
   "source": [
    "準備として、標本に含まれる個々のデータの値がどのようにして決まるのかを見ていく\n",
    "1. 標本抽出の方法としての単純無作為抽出\n",
    "1. 単純無作為抽出によって得られるデータの性質としての確率変数\n",
    "1. 確率変数がどのような値をとるのかを示す確率分布\n",
    "1. 確率分布を用いた母集団の表現としての母集団分布\n",
    "1. 代表的な母集団分布である正規分布\n",
    "1. 正規分布の母集団から標本を抽出する方法"
   ]
  },
  {
   "cell_type": "markdown",
   "metadata": {},
   "source": [
    "### 4.4.1 標本抽出の方法（単純無作為抽出）\n",
    "- 単純無作為抽出：母集団のなかのどのデータも平等に選ばれる可能性を持っているような標本抽出の方法\n",
    "- 無作為標本；単純無作為抽出によって得られた標本"
   ]
  },
  {
   "cell_type": "markdown",
   "metadata": {},
   "source": [
    "### 4.4.2 確率変数\n",
    "- 確率変数：実際に結果が得られるまでどのような値が得られるかが決まっていない変数\n",
    "- 単純無作為抽出によってデータがえられる場合は、その変数は確率変数であるといえる"
   ]
  },
  {
   "cell_type": "markdown",
   "metadata": {},
   "source": [
    "### 4.4.3 確率分布\n",
    "- 確率変数は結果を見るまで実際にどんな値が得られるかをあらかじめ知ることはできない\n",
    "- 確率分布：ある確率変数がどのような値をどのような確率でとるかを表した分布\n",
    "- 「確率変数Xは確率分布Aにしたがう」という言い方をする\n",
    "- 確率分布は理論的に決められる"
   ]
  },
  {
   "cell_type": "code",
   "execution_count": 23,
   "metadata": {},
   "outputs": [],
   "source": [
    "# 乱数の生成\n",
    "arr = np.random.randint(1, 7, (6000000))"
   ]
  },
  {
   "cell_type": "code",
   "execution_count": 30,
   "metadata": {},
   "outputs": [
    {
     "data": {
      "text/plain": [
       "array([      0,  999583, 1000159,  999538, 1001319,  999441,  999960])"
      ]
     },
     "execution_count": 30,
     "metadata": {},
     "output_type": "execute_result"
    }
   ],
   "source": [
    "# bincountでやると0も数えようとする\n",
    "np.bincount(arr)"
   ]
  },
  {
   "cell_type": "code",
   "execution_count": 29,
   "metadata": {},
   "outputs": [
    {
     "name": "stdout",
     "output_type": "stream",
     "text": [
      "1 999583\n",
      "2 1000159\n",
      "3 999538\n",
      "4 1001319\n",
      "5 999441\n",
      "6 999960\n"
     ]
    }
   ],
   "source": [
    "# カウント\n",
    "key, cnt = np.unique(arr, return_counts = True)\n",
    "for k,c in zip(key,cnt):\n",
    "    print(k,c)"
   ]
  },
  {
   "cell_type": "markdown",
   "metadata": {},
   "source": [
    "### 4.4.4 母集団分布\n",
    "- 母集団分布：ある変数の母集団における分布\n",
    "- 無作為抽出を行った場合、標本として抽出される1つのデータに関する確率分布は、母集団分布とおなじになる\n",
    "- 母集団分布は、母集団からどのような値のデータが抽出されやすいかを示した個々のデータに関する確率分布"
   ]
  },
  {
   "cell_type": "markdown",
   "metadata": {},
   "source": [
    "### 4.4.5 正規分布\n",
    "- 左右対称の釣鐘型の分布\n",
    "- 現実世界のなかでもみられる\n",
    "    - ある1つの数値を目標とした作業で生じる偶然的な誤差の分布\n",
    "    - 性別と年齢を固定したときの身長の分布\n",
    "- 数学的に好ましい性質と持っている\n",
    "- 正規分布は、平均と分散（あるいは「標準偏差）がわかれば分布が決まる。"
   ]
  },
  {
   "cell_type": "code",
   "execution_count": 49,
   "metadata": {},
   "outputs": [
    {
     "data": {
      "image/png": "[encoded data removed]",
      "text/plain": [
       "<Figure size 432x288 with 1 Axes>"
      ]
     },
     "metadata": {
      "needs_background": "light"
     },
     "output_type": "display_data"
    }
   ],
   "source": [
    "# np.random.normal(平均, 標準偏差, 数)\n",
    "x = np.random.normal(0, 1, 10000)\n",
    "plt.hist(x, bins=50)\n",
    "plt.show()"
   ]
  },
  {
   "cell_type": "markdown",
   "metadata": {},
   "source": [
    "### 4.4.6 正規分布\n",
    "- 標準正規分布：平均0、分散1の正規分布\n",
    "- 確率分布は、確率を面積で表現する\n",
    "- 確率密度関数：確率密度を確率変数の値の関数として表したもの"
   ]
  },
  {
   "cell_type": "markdown",
   "metadata": {},
   "source": [
    "### 4.4.7 正規母集団から単純無作為抽出を行う"
   ]
  },
  {
   "cell_type": "markdown",
   "metadata": {},
   "source": [
    "正規母集団（母集団から正規分布である母集団）から無作為標本を抽出してみる"
   ]
  },
  {
   "cell_type": "code",
   "execution_count": 42,
   "metadata": {},
   "outputs": [],
   "source": [
    "x = np.random.normal(50, 10, 5)"
   ]
  },
  {
   "cell_type": "code",
   "execution_count": 50,
   "metadata": {},
   "outputs": [
    {
     "data": {
      "image/png": "[encoded data removed]",
      "text/plain": [
       "<Figure size 432x288 with 1 Axes>"
      ]
     },
     "metadata": {
      "needs_background": "light"
     },
     "output_type": "display_data"
    }
   ],
   "source": [
    "plt.hist(x)\n",
    "plt.show()"
   ]
  },
  {
   "cell_type": "markdown",
   "metadata": {},
   "source": [
    "- 正規母集団から無作為抽出によって得られる確率変数は正規分布にしたがうといわれる\n",
    "- ただし、標本データのヒストグラムを見ただけではわからない"
   ]
  },
  {
   "cell_type": "code",
   "execution_count": 52,
   "metadata": {},
   "outputs": [
    {
     "data": {
      "image/png": "[encoded data removed]",
      "text/plain": [
       "<Figure size 432x288 with 1 Axes>"
      ]
     },
     "metadata": {
      "needs_background": "light"
     },
     "output_type": "display_data"
    }
   ],
   "source": [
    "x = np.random.normal(50, 10, 1000)\n",
    "plt.hist(x, bins=20)\n",
    "plt.show()"
   ]
  },
  {
   "cell_type": "markdown",
   "metadata": {},
   "source": [
    "## 4.5 標本分布\n",
    "- 標本分布：標本統計量に関する確率分布\n",
    "- 無作為標本に含まれる個々のデータは確率変数\n",
    "- 標本分布は標本における個々のデータの実現値を表した度数分布ではない"
   ]
  },
  {
   "cell_type": "markdown",
   "metadata": {},
   "source": [
    "### 4.5.1 標本分布から何がわかるのか\n",
    "どれぐらいあてになる推定値が得られる可能性があるのかを知ることができる"
   ]
  },
  {
   "cell_type": "markdown",
   "metadata": {},
   "source": [
    "1. 標本分布と母数の本当の値の位置関係が近い場合：推定値が本当の値に近くなる\n",
    "1. 標本分布と母数の本当の位置関係がずれている場合：推定値が本当に値にかすりもしない\n",
    "1. 標本分布の広がりが大きい場合：大きくハズレる可能性がある"
   ]
  },
  {
   "cell_type": "markdown",
   "metadata": {},
   "source": [
    "標本分布を調べるときの観点\n",
    "- 標本分布が母数の本当の値を中心として分布しているか\n",
    "- 標本分布が横に大きく広がっていないか"
   ]
  },
  {
   "cell_type": "markdown",
   "metadata": {},
   "source": [
    "### 4.5.2 標本分布を経験的に求める\n",
    "- 標本分布は数学的に求めることが可能\n",
    "- 現実に母数の推定を行う状況では、母集団からサンプルサイズnの標本を1回だけ抽出して推定値を計算して終わりという場合が多い\n",
    "- 現実的には、標本統計量の実現値は1つか数個しか得られない\n",
    "- 母集団分布が正規分布と仮定することで、検討をすすめる"
   ]
  },
  {
   "cell_type": "markdown",
   "metadata": {},
   "source": [
    "### 4.5.3 正規母集団の母平均の推定\n",
    "- 母集団分布は$N(50, 10^2)$であると仮定\n",
    "- サンプルサイズは$n=10$"
   ]
  },
  {
   "cell_type": "code",
   "execution_count": 55,
   "metadata": {},
   "outputs": [],
   "source": [
    "# 正規分布からサンプルデータを作ってみる\n",
    "sample = np.random.normal(50, 10, 10)"
   ]
  },
  {
   "cell_type": "code",
   "execution_count": 56,
   "metadata": {},
   "outputs": [
    {
     "data": {
      "text/plain": [
       "array([55.19887046, 34.86197647, 42.12209056, 54.25139729, 70.32863066,\n",
       "       47.48022754, 42.50509288, 48.29716005, 44.76203789, 59.22873518])"
      ]
     },
     "execution_count": 56,
     "metadata": {},
     "output_type": "execute_result"
    }
   ],
   "source": [
    "# データの確認\n",
    "sample"
   ]
  },
  {
   "cell_type": "code",
   "execution_count": 57,
   "metadata": {},
   "outputs": [
    {
     "data": {
      "text/plain": [
       "49.903621896967934"
      ]
     },
     "execution_count": 57,
     "metadata": {},
     "output_type": "execute_result"
    }
   ],
   "source": [
    "# 平均\n",
    "np.average(sample)"
   ]
  },
  {
   "cell_type": "markdown",
   "metadata": {},
   "source": [
    "- 運良く推定値が50に近いものが得られることもあれば、運悪く50から離れた推定値が得られることもある\n",
    "- 標本誤差：推定値と母平均の食い違い"
   ]
  },
  {
   "cell_type": "markdown",
   "metadata": {},
   "source": [
    "### 4.5.4 標本分布を求める"
   ]
  },
  {
   "cell_type": "code",
   "execution_count": 67,
   "metadata": {},
   "outputs": [],
   "source": [
    "# n=10の標本抽出を10,000回繰り返して、標本平均がとりやすい値の傾向を見る\n",
    "avg = []\n",
    "for i in range(10000):\n",
    "    sample = np.random.normal(50, 10, 10)\n",
    "    avg.append(np.average(sample))"
   ]
  },
  {
   "cell_type": "code",
   "execution_count": 68,
   "metadata": {},
   "outputs": [
    {
     "data": {
      "image/png": "[encoded data removed]",
      "text/plain": [
       "<Figure size 432x288 with 1 Axes>"
      ]
     },
     "metadata": {
      "needs_background": "light"
     },
     "output_type": "display_data"
    }
   ],
   "source": [
    "plt.hist(avg, bins=20)\n",
    "plt.show()"
   ]
  },
  {
   "cell_type": "markdown",
   "metadata": {},
   "source": [
    "- 実際の母平均である50に近い値が最も多い\n",
    "- 誤差が大きくなるにつれて、そのような推定値が得られることが少なくなっている"
   ]
  },
  {
   "cell_type": "code",
   "execution_count": 76,
   "metadata": {},
   "outputs": [],
   "source": [
    "avg_array = np.array(avg)"
   ]
  },
  {
   "cell_type": "code",
   "execution_count": 81,
   "metadata": {},
   "outputs": [],
   "source": [
    "error = np.abs(avg_array - np.ones(10000) * 50)"
   ]
  },
  {
   "cell_type": "code",
   "execution_count": 91,
   "metadata": {},
   "outputs": [
    {
     "data": {
      "image/png": "[encoded data removed]",
      "text/plain": [
       "<Figure size 432x288 with 1 Axes>"
      ]
     },
     "metadata": {
      "needs_background": "light"
     },
     "output_type": "display_data"
    }
   ],
   "source": [
    "bins = np.arange(0, 13, 1)\n",
    "plt.hist(error, bins=bins)\n",
    "plt.show()"
   ]
  },
  {
   "cell_type": "markdown",
   "metadata": {},
   "source": [
    "### 4.5.5 不偏性\n",
    "- 不偏性：推定量の標本分布の平均が、推定している母数の値と一致している\n",
    "- 不偏推定量：不偏性がある推定量"
   ]
  },
  {
   "cell_type": "markdown",
   "metadata": {},
   "source": [
    "### 4.5.6 標準誤差"
   ]
  },
  {
   "cell_type": "code",
   "execution_count": null,
   "metadata": {},
   "outputs": [],
   "source": []
  },
  {
   "cell_type": "markdown",
   "metadata": {},
   "source": [
    "## 4.6 標本平均以外の標本分布"
   ]
  },
  {
   "cell_type": "markdown",
   "metadata": {},
   "source": [
    "### 4.6.1 標本分散と不偏分散の標本分布"
   ]
  },
  {
   "cell_type": "markdown",
   "metadata": {},
   "source": [
    "標本分散と不偏分散の違い\n",
    "- 不偏分散は母分散の不偏推定量"
   ]
  },
  {
   "cell_type": "markdown",
   "metadata": {},
   "source": [
    "### 4.6.2 中央値の標本分布"
   ]
  },
  {
   "cell_type": "code",
   "execution_count": null,
   "metadata": {},
   "outputs": [],
   "source": []
  }
 ],
 "metadata": {
  "kernelspec": {
   "display_name": "Python 3",
   "language": "python",
   "name": "python3"
  },
  "language_info": {
   "codemirror_mode": {
    "name": "ipython",
    "version": 3
   },
   "file_extension": ".py",
   "mimetype": "text/x-python",
   "name": "python",
   "nbconvert_exporter": "python",
   "pygments_lexer": "ipython3",
   "version": "3.7.6"
  }
 },
 "nbformat": 4,
 "nbformat_minor": 4
}
