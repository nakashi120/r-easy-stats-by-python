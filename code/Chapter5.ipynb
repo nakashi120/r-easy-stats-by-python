{
 "cells": [
  {
   "cell_type": "markdown",
   "metadata": {},
   "source": [
    "# 第5章 統計的仮説検定"
   ]
  },
  {
   "cell_type": "code",
   "execution_count": 16,
   "metadata": {},
   "outputs": [],
   "source": [
    "# ライブラリのインポート\n",
    "import numpy as np\n",
    "import pandas as pd\n",
    "import scipy.stats as st\n",
    "import matplotlib.pyplot as plot\n",
    "%matplotlib inline"
   ]
  },
  {
   "cell_type": "markdown",
   "metadata": {},
   "source": [
    "## 5.1 統計的仮説検定の必要性"
   ]
  },
  {
   "cell_type": "markdown",
   "metadata": {},
   "source": [
    "標本からの相関を示すと以下のような反論をうける可能性がある\n",
    "- 「母集団全体では全く相関がなくても、そこから一部を抽出してきた標本では相関関係が見られることがある」と言われてしまう\n",
    "- 「母集団全体からデータを得たら相関係数はゼロになるのに、たまたま相関関係が見られるような標本を抽出したのではないか」"
   ]
  },
  {
   "cell_type": "markdown",
   "metadata": {},
   "source": [
    "上記に対して反論する方法\n",
    "- 「標本にたまたま相関が見られる」ということは現実的には起こり得ないと示すこと:「統計的仮説検定」"
   ]
  },
  {
   "cell_type": "markdown",
   "metadata": {},
   "source": [
    "## 5.2 到底敵仮説検定の手順と用語"
   ]
  },
  {
   "cell_type": "markdown",
   "metadata": {},
   "source": [
    "| 手順 |  やること　 |\n",
    "|  ---  |  ---  |\n",
    "|1|母集団に関する帰無仮説と対立仮説を設定する|\n",
    "|2|検定統計量を選ぶ|\n",
    "|3|有意水準$\\alpha$を選ぶ|\n",
    "|4|データを収集したあと、データから検定統計量の実現値を求める|\n",
    "|5|検定統計量の実現値が棄却域に入れば帰無仮説を棄却して、対立仮説を採択する。棄却域に入らなければ、帰無仮説を採択する|"
   ]
  },
  {
   "cell_type": "markdown",
   "metadata": {},
   "source": [
    "### 5.2.1 帰無仮説と対立仮説"
   ]
  },
  {
   "cell_type": "markdown",
   "metadata": {},
   "source": [
    "#### 帰無仮説\n",
    "- 「差がない」「効果がない」という仮設\n",
    "- 帰無仮説は$H_0$という記号で示される\n",
    "- 一般的には主張したいことと逆の仮設"
   ]
  },
  {
   "cell_type": "markdown",
   "metadata": {},
   "source": [
    "#### 対立仮説\n",
    "- 帰無仮説が棄却されたときに採択される仮設\n",
    "- $H_1$という記号で示される"
   ]
  },
  {
   "cell_type": "markdown",
   "metadata": {},
   "source": [
    "### 5.2.2 検定統計量\n",
    "- 統計的仮説検定を行う場合は、標本統計量を利用\n",
    "- 統計的仮説検定のために用いられる標本統計量のことを**検定統計量**という\n",
    "- 標本から計算された検定統計量の具体的な値を**検定統計量の実現値**という"
   ]
  },
  {
   "cell_type": "markdown",
   "metadata": {},
   "source": [
    "### 5.2.3 有意水準と棄却域"
   ]
  },
  {
   "cell_type": "markdown",
   "metadata": {},
   "source": [
    "- どの程度低い確率の結果が示されたら帰無仮説を棄却するかという基準：**有意水準**\n",
    "- 有意水準は5%または1%で設定されることがおおい\n",
    "- 有意水準は$\\alpha$で示される\n",
    "- 帰無仮説のもとでの標本分布を**帰無分布＊＊という\n",
    "- 帰無仮説のもとで、非常に生じにくい検定統計量の値の範囲を**棄却域**と呼ぶ\n",
    "- 棄却域以外の部分を**採択域**\n",
    "- 棄却域と採択域の境界の値を**臨界値*+という"
   ]
  },
  {
   "cell_type": "markdown",
   "metadata": {},
   "source": [
    "### 5.2.4 統計的仮説検定の結果の報告\n",
    "- 検定統計量の実現値が棄却域に入った場合の判断を「検定家一家は5%水準で**有意**である」という\n",
    "- 棄却域に入らなかった場合を「有意な差は認められなかった」「有意でない」"
   ]
  },
  {
   "cell_type": "markdown",
   "metadata": {},
   "source": [
    "### 5.2.5 $p$値"
   ]
  },
  {
   "cell_type": "markdown",
   "metadata": {},
   "source": [
    "- $p$値とは、帰無仮説が正しいという仮定のもとで、標本から計算した検定統計量の実現値以上の値が得られる確率のこと\n",
    "- $p$値が有意水準$\\alpha$より小さい時に帰無仮説を棄却する"
   ]
  },
  {
   "cell_type": "markdown",
   "metadata": {},
   "source": [
    "### 5.2.6 第１種の誤りと第２種の誤り"
   ]
  },
  {
   "cell_type": "markdown",
   "metadata": {},
   "source": [
    "#### 1種の誤り\n",
    "- 帰無仮説が真のとき、これを棄却してしまう誤り\n",
    "- 本当は差がないのに差があると判断してしまうこと"
   ]
  },
  {
   "cell_type": "markdown",
   "metadata": {},
   "source": [
    "#### 2種の誤り\n",
    "- 帰無仮説が偽のとき、これを採択する誤り\n",
    "- 本当は差があるのに、差がないと判断してしまうこと"
   ]
  },
  {
   "cell_type": "markdown",
   "metadata": {},
   "source": [
    "### 5.2.7 検定力"
   ]
  },
  {
   "cell_type": "markdown",
   "metadata": {},
   "source": [
    "#### 検定力\n",
    "- 帰無仮説が偽のときに、第２種の誤りを犯す確率と第２種の誤りを犯さない確率の合計は1\n",
    "- 検定力：帰無仮説が偽の場合、全体の確率1から第２種の誤り$\\beta$を引いた確率$1-\\beta$"
   ]
  },
  {
   "cell_type": "markdown",
   "metadata": {},
   "source": [
    "## 5.3 標準正規分布を用いた検定"
   ]
  },
  {
   "cell_type": "markdown",
   "metadata": {},
   "source": [
    "### 【問題】\n",
    "指導法データの心理学テストの得点が$N(12, 10)$からの無作為抽出と考えてもよいか"
   ]
  },
  {
   "cell_type": "code",
   "execution_count": 4,
   "metadata": {},
   "outputs": [],
   "source": [
    "df = pd.read_csv(\"../data/method_data.csv\")\n",
    "df = df['psychology_test']"
   ]
  },
  {
   "cell_type": "code",
   "execution_count": 5,
   "metadata": {},
   "outputs": [
    {
     "data": {
      "text/plain": [
       "0     13\n",
       "1     14\n",
       "2      7\n",
       "3     12\n",
       "4     10\n",
       "5      6\n",
       "6      8\n",
       "7     15\n",
       "8      4\n",
       "9     14\n",
       "10     9\n",
       "11     6\n",
       "12    10\n",
       "13    12\n",
       "14     5\n",
       "15    12\n",
       "16     8\n",
       "17     8\n",
       "18    12\n",
       "19    15\n",
       "Name: psychology_test, dtype: int64"
      ]
     },
     "execution_count": 5,
     "metadata": {},
     "output_type": "execute_result"
    }
   ],
   "source": [
    "df"
   ]
  },
  {
   "cell_type": "markdown",
   "metadata": {},
   "source": [
    "#### (1) 帰無仮説と対立仮説の設定"
   ]
  },
  {
   "cell_type": "markdown",
   "metadata": {},
   "source": [
    "- 帰無仮説$H_0: \\mu=12$（心理学テストの母平均は12）\n",
    "- 対立仮説$H_0: \\mu\\neq12$（心理学テストの母平均は12ではない）"
   ]
  },
  {
   "cell_type": "markdown",
   "metadata": {},
   "source": [
    "#### (2) 検定統計量の選択"
   ]
  },
  {
   "cell_type": "markdown",
   "metadata": {},
   "source": [
    "#### (3) 有意水準$\\alpha$の決定\n",
    "$\\alpha=0.05$とする"
   ]
  },
  {
   "cell_type": "markdown",
   "metadata": {},
   "source": [
    "#### (4) 検定統計量の実現値を求める"
   ]
  },
  {
   "cell_type": "code",
   "execution_count": 11,
   "metadata": {},
   "outputs": [
    {
     "data": {
      "text/plain": [
       "-2.0"
      ]
     },
     "execution_count": 11,
     "metadata": {},
     "output_type": "execute_result"
    }
   ],
   "source": [
    "# 分子\n",
    "df.mean() - 12"
   ]
  },
  {
   "cell_type": "code",
   "execution_count": 13,
   "metadata": {},
   "outputs": [
    {
     "data": {
      "text/plain": [
       "0.7071067811865476"
      ]
     },
     "execution_count": 13,
     "metadata": {},
     "output_type": "execute_result"
    }
   ],
   "source": [
    "# 分母\n",
    "np.sqrt(10/len(df))"
   ]
  },
  {
   "cell_type": "code",
   "execution_count": 14,
   "metadata": {},
   "outputs": [],
   "source": [
    "# Z検定統計量\n",
    "Z = (df.mean() - 12) / (np.sqrt(10/len(df)))"
   ]
  },
  {
   "cell_type": "code",
   "execution_count": 15,
   "metadata": {},
   "outputs": [
    {
     "data": {
      "text/plain": [
       "-2.82842712474619"
      ]
     },
     "execution_count": 15,
     "metadata": {},
     "output_type": "execute_result"
    }
   ],
   "source": [
    "Z"
   ]
  },
  {
   "cell_type": "code",
   "execution_count": 17,
   "metadata": {},
   "outputs": [
    {
     "data": {
      "text/plain": [
       "-1.9599639845400545"
      ]
     },
     "execution_count": 17,
     "metadata": {},
     "output_type": "execute_result"
    }
   ],
   "source": [
    "# 下側検定\n",
    "st.norm.ppf(0.025)"
   ]
  },
  {
   "cell_type": "code",
   "execution_count": 18,
   "metadata": {},
   "outputs": [
    {
     "data": {
      "text/plain": [
       "1.959963984540054"
      ]
     },
     "execution_count": 18,
     "metadata": {},
     "output_type": "execute_result"
    }
   ],
   "source": [
    "# 上側検定\n",
    "st.norm.ppf(0.975)"
   ]
  },
  {
   "cell_type": "code",
   "execution_count": null,
   "metadata": {},
   "outputs": [],
   "source": []
  }
 ],
 "metadata": {
  "kernelspec": {
   "display_name": "Python 3",
   "language": "python",
   "name": "python3"
  },
  "language_info": {
   "codemirror_mode": {
    "name": "ipython",
    "version": 3
   },
   "file_extension": ".py",
   "mimetype": "text/x-python",
   "name": "python",
   "nbconvert_exporter": "python",
   "pygments_lexer": "ipython3",
   "version": "3.7.6"
  }
 },
 "nbformat": 4,
 "nbformat_minor": 4
}
